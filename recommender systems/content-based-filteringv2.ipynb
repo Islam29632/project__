{
 "metadata": {
  "kernelspec": {
   "display_name": "Python 3",
   "language": "python",
   "name": "python3"
  },
  "language_info": {
   "name": "python",
   "version": "3.11.11",
   "mimetype": "text/x-python",
   "codemirror_mode": {
    "name": "ipython",
    "version": 3
   },
   "pygments_lexer": "ipython3",
   "nbconvert_exporter": "python",
   "file_extension": ".py"
  },
  "kaggle": {
   "accelerator": "gpu",
   "dataSources": [
    {
     "sourceId": 2305430,
     "sourceType": "datasetVersion",
     "datasetId": 1390469
    }
   ],
   "dockerImageVersionId": 31012,
   "isInternetEnabled": true,
   "language": "python",
   "sourceType": "notebook",
   "isGpuEnabled": true
  }
 },
 "nbformat_minor": 4,
 "nbformat": 4,
 "cells": [
  {
   "cell_type": "code",
   "source": "import numpy as np\nimport pandas as pd\nimport matplotlib.pyplot as plt\nfrom collections import Counter",
   "metadata": {
    "trusted": true,
    "execution": {
     "iopub.status.busy": "2025-05-12T14:04:28.224770Z",
     "iopub.execute_input": "2025-05-12T14:04:28.225019Z",
     "iopub.status.idle": "2025-05-12T14:04:28.228956Z",
     "shell.execute_reply.started": "2025-05-12T14:04:28.224997Z",
     "shell.execute_reply": "2025-05-12T14:04:28.228215Z"
    },
    "ExecuteTime": {
     "end_time": "2025-05-12T15:07:47.802138Z",
     "start_time": "2025-05-12T15:07:40.704357Z"
    }
   },
   "outputs": [],
   "execution_count": 1
  },
  {
   "cell_type": "code",
   "source": "df = pd.read_csv('datasets_/GoodReads_100k_books.csv')",
   "metadata": {
    "trusted": true,
    "execution": {
     "iopub.status.busy": "2025-05-12T14:19:19.799862Z",
     "iopub.execute_input": "2025-05-12T14:19:19.800518Z",
     "iopub.status.idle": "2025-05-12T14:19:21.763706Z",
     "shell.execute_reply.started": "2025-05-12T14:19:19.800494Z",
     "shell.execute_reply": "2025-05-12T14:19:21.763112Z"
    },
    "ExecuteTime": {
     "end_time": "2025-05-12T15:07:52.003455Z",
     "start_time": "2025-05-12T15:07:47.915769Z"
    }
   },
   "outputs": [],
   "execution_count": 2
  },
  {
   "cell_type": "code",
   "source": "df.head()",
   "metadata": {
    "trusted": true,
    "execution": {
     "iopub.status.busy": "2025-05-12T14:19:21.765120Z",
     "iopub.execute_input": "2025-05-12T14:19:21.765366Z",
     "iopub.status.idle": "2025-05-12T14:19:21.776083Z",
     "shell.execute_reply.started": "2025-05-12T14:19:21.765342Z",
     "shell.execute_reply": "2025-05-12T14:19:21.775478Z"
    },
    "ExecuteTime": {
     "end_time": "2025-05-12T15:07:53.969642Z",
     "start_time": "2025-05-12T15:07:53.925554Z"
    }
   },
   "outputs": [
    {
     "data": {
      "text/plain": [
       "                             author bookformat  \\\n",
       "0              Laurence M. Hauptman  Hardcover   \n",
       "1  Charlotte Fiell,Emmanuelle Dirix  Paperback   \n",
       "2                     Andy Anderson  Paperback   \n",
       "3              Carlotta R. Anderson  Hardcover   \n",
       "4                     Jean Leveille        NaN   \n",
       "\n",
       "                                                desc  \\\n",
       "0  Reveals that several hundred thousand Indians ...   \n",
       "1  Fashion Sourcebook - 1920s is the first book i...   \n",
       "2  The seminal history and analysis of the Hungar...   \n",
       "3  \"All-American Anarchist\" chronicles the life a...   \n",
       "4  Aujourdâ€™hui, lâ€™oiseau nous invite Ã  sa ta...   \n",
       "\n",
       "                                               genre  \\\n",
       "0  History,Military History,Civil War,American Hi...   \n",
       "1          Couture,Fashion,Historical,Art,Nonfiction   \n",
       "2                                   Politics,History   \n",
       "3                                      Labor,History   \n",
       "4                                                NaN   \n",
       "\n",
       "                                                 img        isbn    isbn13  \\\n",
       "0  https://i.gr-assets.com/images/S/compressed.ph...  002914180X  9.78E+12   \n",
       "1  https://i.gr-assets.com/images/S/compressed.ph...  1906863482  9.78E+12   \n",
       "2  https://i.gr-assets.com/images/S/compressed.ph...   948984147  9.78E+12   \n",
       "3  https://i.gr-assets.com/images/S/compressed.ph...   814327079  9.78E+12   \n",
       "4  https://i.gr-assets.com/images/S/compressed.ph...  2761920813       NaN   \n",
       "\n",
       "                                                link  pages  rating  reviews  \\\n",
       "0  https://goodreads.com/book/show/1001053.Betwee...      0    3.52        5   \n",
       "1  https://goodreads.com/book/show/10010552-fashi...    576    4.51        6   \n",
       "2  https://goodreads.com/book/show/1001077.Hungar...    124    4.15        2   \n",
       "3  https://goodreads.com/book/show/1001079.All_Am...    324    3.83        1   \n",
       "4  https://goodreads.com/book/show/10010880-les-o...    177    4.00        1   \n",
       "\n",
       "                                               title  totalratings  \n",
       "0  Between Two Fires: American Indians in the Civ...            33  \n",
       "1                           Fashion Sourcebook 1920s            41  \n",
       "2                                         Hungary 56            26  \n",
       "3  All-American Anarchist: Joseph A. Labadie and ...             6  \n",
       "4                              Les oiseaux gourmands             1  "
      ],
      "text/html": [
       "<div>\n",
       "<style scoped>\n",
       "    .dataframe tbody tr th:only-of-type {\n",
       "        vertical-align: middle;\n",
       "    }\n",
       "\n",
       "    .dataframe tbody tr th {\n",
       "        vertical-align: top;\n",
       "    }\n",
       "\n",
       "    .dataframe thead th {\n",
       "        text-align: right;\n",
       "    }\n",
       "</style>\n",
       "<table border=\"1\" class=\"dataframe\">\n",
       "  <thead>\n",
       "    <tr style=\"text-align: right;\">\n",
       "      <th></th>\n",
       "      <th>author</th>\n",
       "      <th>bookformat</th>\n",
       "      <th>desc</th>\n",
       "      <th>genre</th>\n",
       "      <th>img</th>\n",
       "      <th>isbn</th>\n",
       "      <th>isbn13</th>\n",
       "      <th>link</th>\n",
       "      <th>pages</th>\n",
       "      <th>rating</th>\n",
       "      <th>reviews</th>\n",
       "      <th>title</th>\n",
       "      <th>totalratings</th>\n",
       "    </tr>\n",
       "  </thead>\n",
       "  <tbody>\n",
       "    <tr>\n",
       "      <th>0</th>\n",
       "      <td>Laurence M. Hauptman</td>\n",
       "      <td>Hardcover</td>\n",
       "      <td>Reveals that several hundred thousand Indians ...</td>\n",
       "      <td>History,Military History,Civil War,American Hi...</td>\n",
       "      <td>https://i.gr-assets.com/images/S/compressed.ph...</td>\n",
       "      <td>002914180X</td>\n",
       "      <td>9.78E+12</td>\n",
       "      <td>https://goodreads.com/book/show/1001053.Betwee...</td>\n",
       "      <td>0</td>\n",
       "      <td>3.52</td>\n",
       "      <td>5</td>\n",
       "      <td>Between Two Fires: American Indians in the Civ...</td>\n",
       "      <td>33</td>\n",
       "    </tr>\n",
       "    <tr>\n",
       "      <th>1</th>\n",
       "      <td>Charlotte Fiell,Emmanuelle Dirix</td>\n",
       "      <td>Paperback</td>\n",
       "      <td>Fashion Sourcebook - 1920s is the first book i...</td>\n",
       "      <td>Couture,Fashion,Historical,Art,Nonfiction</td>\n",
       "      <td>https://i.gr-assets.com/images/S/compressed.ph...</td>\n",
       "      <td>1906863482</td>\n",
       "      <td>9.78E+12</td>\n",
       "      <td>https://goodreads.com/book/show/10010552-fashi...</td>\n",
       "      <td>576</td>\n",
       "      <td>4.51</td>\n",
       "      <td>6</td>\n",
       "      <td>Fashion Sourcebook 1920s</td>\n",
       "      <td>41</td>\n",
       "    </tr>\n",
       "    <tr>\n",
       "      <th>2</th>\n",
       "      <td>Andy Anderson</td>\n",
       "      <td>Paperback</td>\n",
       "      <td>The seminal history and analysis of the Hungar...</td>\n",
       "      <td>Politics,History</td>\n",
       "      <td>https://i.gr-assets.com/images/S/compressed.ph...</td>\n",
       "      <td>948984147</td>\n",
       "      <td>9.78E+12</td>\n",
       "      <td>https://goodreads.com/book/show/1001077.Hungar...</td>\n",
       "      <td>124</td>\n",
       "      <td>4.15</td>\n",
       "      <td>2</td>\n",
       "      <td>Hungary 56</td>\n",
       "      <td>26</td>\n",
       "    </tr>\n",
       "    <tr>\n",
       "      <th>3</th>\n",
       "      <td>Carlotta R. Anderson</td>\n",
       "      <td>Hardcover</td>\n",
       "      <td>\"All-American Anarchist\" chronicles the life a...</td>\n",
       "      <td>Labor,History</td>\n",
       "      <td>https://i.gr-assets.com/images/S/compressed.ph...</td>\n",
       "      <td>814327079</td>\n",
       "      <td>9.78E+12</td>\n",
       "      <td>https://goodreads.com/book/show/1001079.All_Am...</td>\n",
       "      <td>324</td>\n",
       "      <td>3.83</td>\n",
       "      <td>1</td>\n",
       "      <td>All-American Anarchist: Joseph A. Labadie and ...</td>\n",
       "      <td>6</td>\n",
       "    </tr>\n",
       "    <tr>\n",
       "      <th>4</th>\n",
       "      <td>Jean Leveille</td>\n",
       "      <td>NaN</td>\n",
       "      <td>Aujourdâ€™hui, lâ€™oiseau nous invite Ã  sa ta...</td>\n",
       "      <td>NaN</td>\n",
       "      <td>https://i.gr-assets.com/images/S/compressed.ph...</td>\n",
       "      <td>2761920813</td>\n",
       "      <td>NaN</td>\n",
       "      <td>https://goodreads.com/book/show/10010880-les-o...</td>\n",
       "      <td>177</td>\n",
       "      <td>4.00</td>\n",
       "      <td>1</td>\n",
       "      <td>Les oiseaux gourmands</td>\n",
       "      <td>1</td>\n",
       "    </tr>\n",
       "  </tbody>\n",
       "</table>\n",
       "</div>"
      ]
     },
     "execution_count": 3,
     "metadata": {},
     "output_type": "execute_result"
    }
   ],
   "execution_count": 3
  },
  {
   "cell_type": "code",
   "source": "df.describe()",
   "metadata": {
    "trusted": true,
    "execution": {
     "iopub.status.busy": "2025-05-12T14:19:21.776734Z",
     "iopub.execute_input": "2025-05-12T14:19:21.777028Z",
     "iopub.status.idle": "2025-05-12T14:19:21.811438Z",
     "shell.execute_reply.started": "2025-05-12T14:19:21.777012Z",
     "shell.execute_reply": "2025-05-12T14:19:21.810932Z"
    },
    "ExecuteTime": {
     "end_time": "2025-05-12T15:07:54.231651Z",
     "start_time": "2025-05-12T15:07:54.173494Z"
    }
   },
   "outputs": [
    {
     "data": {
      "text/plain": [
       "               pages         rating        reviews  totalratings\n",
       "count  100000.000000  100000.000000  100000.000000  1.000000e+05\n",
       "mean      255.010240       3.833055     181.528450  2.990764e+03\n",
       "std       367.913582       0.621237    1449.451229  3.635338e+04\n",
       "min         0.000000       0.000000       0.000000  0.000000e+00\n",
       "25%       135.000000       3.660000       3.000000  3.100000e+01\n",
       "50%       240.000000       3.910000      15.000000  1.460000e+02\n",
       "75%       336.000000       4.140000      67.000000  7.440000e+02\n",
       "max     70000.000000       5.000000  158776.000000  3.819326e+06"
      ],
      "text/html": [
       "<div>\n",
       "<style scoped>\n",
       "    .dataframe tbody tr th:only-of-type {\n",
       "        vertical-align: middle;\n",
       "    }\n",
       "\n",
       "    .dataframe tbody tr th {\n",
       "        vertical-align: top;\n",
       "    }\n",
       "\n",
       "    .dataframe thead th {\n",
       "        text-align: right;\n",
       "    }\n",
       "</style>\n",
       "<table border=\"1\" class=\"dataframe\">\n",
       "  <thead>\n",
       "    <tr style=\"text-align: right;\">\n",
       "      <th></th>\n",
       "      <th>pages</th>\n",
       "      <th>rating</th>\n",
       "      <th>reviews</th>\n",
       "      <th>totalratings</th>\n",
       "    </tr>\n",
       "  </thead>\n",
       "  <tbody>\n",
       "    <tr>\n",
       "      <th>count</th>\n",
       "      <td>100000.000000</td>\n",
       "      <td>100000.000000</td>\n",
       "      <td>100000.000000</td>\n",
       "      <td>1.000000e+05</td>\n",
       "    </tr>\n",
       "    <tr>\n",
       "      <th>mean</th>\n",
       "      <td>255.010240</td>\n",
       "      <td>3.833055</td>\n",
       "      <td>181.528450</td>\n",
       "      <td>2.990764e+03</td>\n",
       "    </tr>\n",
       "    <tr>\n",
       "      <th>std</th>\n",
       "      <td>367.913582</td>\n",
       "      <td>0.621237</td>\n",
       "      <td>1449.451229</td>\n",
       "      <td>3.635338e+04</td>\n",
       "    </tr>\n",
       "    <tr>\n",
       "      <th>min</th>\n",
       "      <td>0.000000</td>\n",
       "      <td>0.000000</td>\n",
       "      <td>0.000000</td>\n",
       "      <td>0.000000e+00</td>\n",
       "    </tr>\n",
       "    <tr>\n",
       "      <th>25%</th>\n",
       "      <td>135.000000</td>\n",
       "      <td>3.660000</td>\n",
       "      <td>3.000000</td>\n",
       "      <td>3.100000e+01</td>\n",
       "    </tr>\n",
       "    <tr>\n",
       "      <th>50%</th>\n",
       "      <td>240.000000</td>\n",
       "      <td>3.910000</td>\n",
       "      <td>15.000000</td>\n",
       "      <td>1.460000e+02</td>\n",
       "    </tr>\n",
       "    <tr>\n",
       "      <th>75%</th>\n",
       "      <td>336.000000</td>\n",
       "      <td>4.140000</td>\n",
       "      <td>67.000000</td>\n",
       "      <td>7.440000e+02</td>\n",
       "    </tr>\n",
       "    <tr>\n",
       "      <th>max</th>\n",
       "      <td>70000.000000</td>\n",
       "      <td>5.000000</td>\n",
       "      <td>158776.000000</td>\n",
       "      <td>3.819326e+06</td>\n",
       "    </tr>\n",
       "  </tbody>\n",
       "</table>\n",
       "</div>"
      ]
     },
     "execution_count": 4,
     "metadata": {},
     "output_type": "execute_result"
    }
   ],
   "execution_count": 4
  },
  {
   "cell_type": "code",
   "source": "df.isnull().sum()",
   "metadata": {
    "ExecuteTime": {
     "end_time": "2025-05-12T07:46:21.636519Z",
     "start_time": "2025-05-12T07:46:21.587367Z"
    },
    "trusted": true,
    "execution": {
     "iopub.status.busy": "2025-05-12T14:19:21.952748Z",
     "iopub.execute_input": "2025-05-12T14:19:21.952941Z",
     "iopub.status.idle": "2025-05-12T14:19:22.009446Z",
     "shell.execute_reply.started": "2025-05-12T14:19:21.952926Z",
     "shell.execute_reply": "2025-05-12T14:19:22.008805Z"
    }
   },
   "outputs": [
    {
     "execution_count": 48,
     "output_type": "execute_result",
     "data": {
      "text/plain": "author              0\nbookformat       3228\ndesc             6772\ngenre           10467\nimg              3045\nisbn            14482\nisbn13          11435\nlink                0\npages               0\nrating              0\nreviews             0\ntitle               1\ntotalratings        0\ndtype: int64"
     },
     "metadata": {}
    }
   ],
   "execution_count": 48
  },
  {
   "cell_type": "code",
   "source": "#Author with most of books\nauth = df['author'].value_counts().head(5)\nplt.bar(auth.index, auth.values)\nplt.xticks(rotation = 45)\nplt.show()",
   "metadata": {
    "trusted": true,
    "execution": {
     "iopub.status.busy": "2025-05-12T14:23:17.773536Z",
     "iopub.execute_input": "2025-05-12T14:23:17.774305Z",
     "iopub.status.idle": "2025-05-12T14:23:17.925675Z",
     "shell.execute_reply.started": "2025-05-12T14:23:17.774273Z",
     "shell.execute_reply": "2025-05-12T14:23:17.924901Z"
    },
    "ExecuteTime": {
     "end_time": "2025-05-12T15:07:58.112153Z",
     "start_time": "2025-05-12T15:07:57.665363Z"
    }
   },
   "outputs": [
    {
     "data": {
      "text/plain": [
       "<Figure size 640x480 with 1 Axes>"
      ],
      "image/png": "[encoded data removed]"
     },
     "metadata": {},
     "output_type": "display_data"
    }
   ],
   "execution_count": 5
  },
  {
   "cell_type": "code",
   "source": "genre = df['genre'].dropna()",
   "metadata": {
    "trusted": true,
    "execution": {
     "iopub.status.busy": "2025-05-12T14:19:24.446752Z",
     "iopub.execute_input": "2025-05-12T14:19:24.447023Z",
     "iopub.status.idle": "2025-05-12T14:19:24.460020Z",
     "shell.execute_reply.started": "2025-05-12T14:19:24.447002Z",
     "shell.execute_reply": "2025-05-12T14:19:24.459374Z"
    },
    "ExecuteTime": {
     "end_time": "2025-05-12T15:08:00.703614Z",
     "start_time": "2025-05-12T15:08:00.684539Z"
    }
   },
   "outputs": [],
   "execution_count": 6
  },
  {
   "cell_type": "code",
   "source": "#splitting as some books got more than an genre\ngenre_split = []\nfor gen in genre:\n    genre_split.append(gen.split(','))\n\n\ndef flatten(a):\n    res = []\n    for x in a:\n        if isinstance(x, list):\n            res.extend(flatten(x))  # Recursively flatten nested lists\n        else:\n            res.append(x)  # Append individual elements\n    return res\n\ngen_flat = flatten(genre_split)",
   "metadata": {
    "trusted": true,
    "execution": {
     "iopub.status.busy": "2025-05-12T14:19:24.743804Z",
     "iopub.execute_input": "2025-05-12T14:19:24.744211Z",
     "iopub.status.idle": "2025-05-12T14:19:25.031649Z",
     "shell.execute_reply.started": "2025-05-12T14:19:24.744190Z",
     "shell.execute_reply": "2025-05-12T14:19:25.031086Z"
    },
    "ExecuteTime": {
     "end_time": "2025-05-12T15:08:01.502489Z",
     "start_time": "2025-05-12T15:08:01.055762Z"
    }
   },
   "outputs": [],
   "execution_count": 7
  },
  {
   "cell_type": "code",
   "source": "gen_collection = Counter(gen_flat) # converting the title ",
   "metadata": {
    "trusted": true,
    "execution": {
     "iopub.status.busy": "2025-05-12T14:19:25.696343Z",
     "iopub.execute_input": "2025-05-12T14:19:25.697012Z",
     "iopub.status.idle": "2025-05-12T14:19:25.786321Z",
     "shell.execute_reply.started": "2025-05-12T14:19:25.696987Z",
     "shell.execute_reply": "2025-05-12T14:19:25.785737Z"
    },
    "ExecuteTime": {
     "end_time": "2025-05-12T15:08:02.365260Z",
     "start_time": "2025-05-12T15:08:02.184367Z"
    }
   },
   "outputs": [],
   "execution_count": 8
  },
  {
   "cell_type": "code",
   "source": "top_10_genres = gen_collection.most_common(10)\n\n# Convert to DataFrame for plotting\ntop_10_df = pd.DataFrame(top_10_genres, columns=['Genre', 'Count'])\n\n# Plot the top 10 most frequent genres\nplt.figure(figsize=(10, 6))\nplt.bar(top_10_df['Genre'], top_10_df['Count'], color='purple')\nplt.title(\"Top 10 Most Frequent Genres in Goodreads Dataset\")\nplt.xlabel(\"Genre\")\nplt.ylabel(\"Number of Books\")\nplt.xticks(rotation=45, ha='right')\nplt.tight_layout()\nplt.show()",
   "metadata": {
    "trusted": true,
    "execution": {
     "iopub.status.busy": "2025-05-12T14:19:26.665896Z",
     "iopub.execute_input": "2025-05-12T14:19:26.666458Z",
     "iopub.status.idle": "2025-05-12T14:19:26.884780Z",
     "shell.execute_reply.started": "2025-05-12T14:19:26.666435Z",
     "shell.execute_reply": "2025-05-12T14:19:26.883990Z"
    },
    "ExecuteTime": {
     "end_time": "2025-05-12T15:08:03.936212Z",
     "start_time": "2025-05-12T15:08:03.575956Z"
    }
   },
   "outputs": [
    {
     "data": {
      "text/plain": [
       "<Figure size 1000x600 with 1 Axes>"
      ],
      "image/png": "[encoded data removed]"
     },
     "metadata": {},
     "output_type": "display_data"
    }
   ],
   "execution_count": 9
  },
  {
   "cell_type": "code",
   "source": "df_sorted = df[['title','totalratings','genre']].sort_values(ascending=False,by='totalratings')",
   "metadata": {
    "trusted": true,
    "execution": {
     "iopub.status.busy": "2025-05-12T14:19:30.311153Z",
     "iopub.execute_input": "2025-05-12T14:19:30.311434Z",
     "iopub.status.idle": "2025-05-12T14:19:30.334647Z",
     "shell.execute_reply.started": "2025-05-12T14:19:30.311413Z",
     "shell.execute_reply": "2025-05-12T14:19:30.333888Z"
    },
    "ExecuteTime": {
     "end_time": "2025-05-12T15:08:05.776176Z",
     "start_time": "2025-05-12T15:08:05.734215Z"
    }
   },
   "outputs": [],
   "execution_count": 10
  },
  {
   "cell_type": "code",
   "source": "def find_first(df,word):\n    for i,sentence in enumerate(df['genre']):\n        if word in sentence:\n            return df['title'].loc[i]",
   "metadata": {
    "trusted": true,
    "execution": {
     "iopub.status.busy": "2025-05-12T14:19:30.558536Z",
     "iopub.execute_input": "2025-05-12T14:19:30.558789Z",
     "iopub.status.idle": "2025-05-12T14:19:30.562786Z",
     "shell.execute_reply.started": "2025-05-12T14:19:30.558771Z",
     "shell.execute_reply": "2025-05-12T14:19:30.562087Z"
    },
    "ExecuteTime": {
     "end_time": "2025-05-12T15:08:06.004527Z",
     "start_time": "2025-05-12T15:08:05.995437Z"
    }
   },
   "outputs": [],
   "execution_count": 11
  },
  {
   "cell_type": "code",
   "source": "#Most popular books by genre\nfor i in range(10):\n    print(f'Genre : {top_10_genres[i][0]} , Name :',find_first(df_sorted, top_10_genres[i][0]),'\\n')",
   "metadata": {
    "trusted": true,
    "execution": {
     "iopub.status.busy": "2025-05-12T14:12:24.944868Z",
     "iopub.execute_input": "2025-05-12T14:12:24.945330Z",
     "iopub.status.idle": "2025-05-12T14:12:24.951476Z",
     "shell.execute_reply.started": "2025-05-12T14:12:24.945307Z",
     "shell.execute_reply": "2025-05-12T14:12:24.950936Z"
    },
    "ExecuteTime": {
     "end_time": "2025-05-12T15:08:07.118822Z",
     "start_time": "2025-05-12T15:08:07.104099Z"
    }
   },
   "outputs": [
    {
     "name": "stdout",
     "output_type": "stream",
     "text": [
      "Genre : Romance , Name : Between Two Fires: American Indians in the Civil War \n",
      "\n",
      "Genre : Fantasy , Name : Fashion Sourcebook 1920s \n",
      "\n",
      "Genre : Fiction , Name : Between Two Fires: American Indians in the Civil War \n",
      "\n",
      "Genre : Nonfiction , Name : Character Strengths and Virtues: A Handbook and Classification \n",
      "\n",
      "Genre : Historical , Name : The Books of Contemplation: Medieval Jewish Mystical Sources \n",
      "\n",
      "Genre : Childrens , Name : Hungary 56 \n",
      "\n",
      "Genre : History , Name : Character Strengths and Virtues: A Handbook and Classification \n",
      "\n",
      "Genre : Cultural , Name : Anarchism And Ecology \n",
      "\n",
      "Genre : Sequential Art , Name : The Preservationist \n",
      "\n",
      "Genre : Mystery , Name : Hawaii: An Uncommon History \n",
      "\n"
     ]
    }
   ],
   "execution_count": 12
  },
  {
   "cell_type": "code",
   "source": "from sklearn.feature_extraction.text import TfidfVectorizer\nfrom sklearn.metrics.pairwise import cosine_similarity",
   "metadata": {
    "trusted": true,
    "execution": {
     "iopub.status.busy": "2025-05-12T14:19:32.807136Z",
     "iopub.execute_input": "2025-05-12T14:19:32.807716Z",
     "iopub.status.idle": "2025-05-12T14:19:32.811040Z",
     "shell.execute_reply.started": "2025-05-12T14:19:32.807692Z",
     "shell.execute_reply": "2025-05-12T14:19:32.810412Z"
    },
    "ExecuteTime": {
     "end_time": "2025-05-12T15:08:23.533644Z",
     "start_time": "2025-05-12T15:08:09.578340Z"
    }
   },
   "outputs": [],
   "execution_count": 13
  },
  {
   "cell_type": "code",
   "source": "Tfidf = TfidfVectorizer()\ngenres = df[['genre','title']].dropna()\ngenres_transformed = Tfidf.fit_transform(genres['genre'])\n",
   "metadata": {
    "trusted": true,
    "execution": {
     "iopub.status.busy": "2025-05-12T14:19:35.030988Z",
     "iopub.execute_input": "2025-05-12T14:19:35.031460Z",
     "iopub.status.idle": "2025-05-12T14:19:35.831491Z",
     "shell.execute_reply.started": "2025-05-12T14:19:35.031438Z",
     "shell.execute_reply": "2025-05-12T14:19:35.830780Z"
    },
    "ExecuteTime": {
     "end_time": "2025-05-12T15:08:25.470724Z",
     "start_time": "2025-05-12T15:08:23.585766Z"
    }
   },
   "outputs": [],
   "execution_count": 14
  },
  {
   "cell_type": "code",
   "source": "tfidf_df = pd.DataFrame(genres_transformed.toarray(), columns=Tfidf.get_feature_names_out())\n\ntfidf_df.to_csv(\"tfidf_genre_matrix.csv\", index=False)\n",
   "metadata": {
    "ExecuteTime": {
     "end_time": "2025-05-12T07:47:41.666072Z",
     "start_time": "2025-05-12T07:46:38.918189Z"
    },
    "trusted": true,
    "execution": {
     "iopub.status.busy": "2025-05-12T14:12:30.021988Z",
     "iopub.execute_input": "2025-05-12T14:12:30.022725Z",
     "iopub.status.idle": "2025-05-12T14:13:10.361681Z",
     "shell.execute_reply.started": "2025-05-12T14:12:30.022678Z",
     "shell.execute_reply": "2025-05-12T14:13:10.360861Z"
    }
   },
   "outputs": [],
   "execution_count": 35
  },
  {
   "cell_type": "code",
   "source": "target_book = df['title'].loc[1]\nbook_index = df[df['title'] == target_book].index[0]\n\nsimilarities = cosine_similarity(genres_transformed[book_index], genres_transformed).flatten()\n\nsimilar_books = pd.DataFrame({\n    'title': genres['title'],\n    'similarity': similarities\n}).sort_values(by='similarity', ascending=False)\n\nprint(f\"Books similar to '{target_book}':\")\nprint(similar_books[similar_books['title'] != target_book])",
   "metadata": {
    "trusted": true,
    "execution": {
     "iopub.status.busy": "2025-05-12T14:19:36.675150Z",
     "iopub.execute_input": "2025-05-12T14:19:36.675422Z",
     "iopub.status.idle": "2025-05-12T14:19:36.728903Z",
     "shell.execute_reply.started": "2025-05-12T14:19:36.675401Z",
     "shell.execute_reply": "2025-05-12T14:19:36.728197Z"
    },
    "ExecuteTime": {
     "end_time": "2025-05-12T15:08:25.625830Z",
     "start_time": "2025-05-12T15:08:25.515729Z"
    }
   },
   "outputs": [
    {
     "name": "stdout",
     "output_type": "stream",
     "text": [
      "Books similar to 'Fashion Sourcebook 1920s':\n",
      "                                                   title  similarity\n",
      "90602        50s Fashion: Vintage Fashion and Beauty Ads    1.000000\n",
      "31581               Extreme Beauty: The Body Transformed    0.963344\n",
      "72850                                    Mode In Costume    0.963344\n",
      "23525    Fashion Illustration: Inspiration and Technique    0.952457\n",
      "11879    Pulp Fashion: The Art of Isabelle de Borchgrave    0.952457\n",
      "...                                                  ...         ...\n",
      "63                            Web Design on a Shoestring    0.000000\n",
      "48619                                  The Deputy's Duty    0.000000\n",
      "48620                                 The Sheikh's Jewel    0.000000\n",
      "99948  Cheers to Vegan Sweets!: Drink-Inspired Vegan ...    0.000000\n",
      "60                            The Pony and the Lost Swan    0.000000\n",
      "\n",
      "[89531 rows x 2 columns]\n"
     ]
    }
   ],
   "execution_count": 15
  },
  {
   "cell_type": "code",
   "source": "genres.head(5)",
   "metadata": {
    "trusted": true,
    "execution": {
     "iopub.status.busy": "2025-05-12T14:19:45.000662Z",
     "iopub.execute_input": "2025-05-12T14:19:45.000936Z",
     "iopub.status.idle": "2025-05-12T14:19:45.008359Z",
     "shell.execute_reply.started": "2025-05-12T14:19:45.000917Z",
     "shell.execute_reply": "2025-05-12T14:19:45.007641Z"
    },
    "ExecuteTime": {
     "end_time": "2025-05-12T15:08:25.722227Z",
     "start_time": "2025-05-12T15:08:25.704498Z"
    }
   },
   "outputs": [
    {
     "data": {
      "text/plain": [
       "                                               genre  \\\n",
       "0  History,Military History,Civil War,American Hi...   \n",
       "1          Couture,Fashion,Historical,Art,Nonfiction   \n",
       "2                                   Politics,History   \n",
       "3                                      Labor,History   \n",
       "5  Business,Leadership,Romance,Historical Romance...   \n",
       "\n",
       "                                               title  \n",
       "0  Between Two Fires: American Indians in the Civ...  \n",
       "1                           Fashion Sourcebook 1920s  \n",
       "2                                         Hungary 56  \n",
       "3  All-American Anarchist: Joseph A. Labadie and ...  \n",
       "5  The Human Equation: Building Profits by Puttin...  "
      ],
      "text/html": [
       "<div>\n",
       "<style scoped>\n",
       "    .dataframe tbody tr th:only-of-type {\n",
       "        vertical-align: middle;\n",
       "    }\n",
       "\n",
       "    .dataframe tbody tr th {\n",
       "        vertical-align: top;\n",
       "    }\n",
       "\n",
       "    .dataframe thead th {\n",
       "        text-align: right;\n",
       "    }\n",
       "</style>\n",
       "<table border=\"1\" class=\"dataframe\">\n",
       "  <thead>\n",
       "    <tr style=\"text-align: right;\">\n",
       "      <th></th>\n",
       "      <th>genre</th>\n",
       "      <th>title</th>\n",
       "    </tr>\n",
       "  </thead>\n",
       "  <tbody>\n",
       "    <tr>\n",
       "      <th>0</th>\n",
       "      <td>History,Military History,Civil War,American Hi...</td>\n",
       "      <td>Between Two Fires: American Indians in the Civ...</td>\n",
       "    </tr>\n",
       "    <tr>\n",
       "      <th>1</th>\n",
       "      <td>Couture,Fashion,Historical,Art,Nonfiction</td>\n",
       "      <td>Fashion Sourcebook 1920s</td>\n",
       "    </tr>\n",
       "    <tr>\n",
       "      <th>2</th>\n",
       "      <td>Politics,History</td>\n",
       "      <td>Hungary 56</td>\n",
       "    </tr>\n",
       "    <tr>\n",
       "      <th>3</th>\n",
       "      <td>Labor,History</td>\n",
       "      <td>All-American Anarchist: Joseph A. Labadie and ...</td>\n",
       "    </tr>\n",
       "    <tr>\n",
       "      <th>5</th>\n",
       "      <td>Business,Leadership,Romance,Historical Romance...</td>\n",
       "      <td>The Human Equation: Building Profits by Puttin...</td>\n",
       "    </tr>\n",
       "  </tbody>\n",
       "</table>\n",
       "</div>"
      ]
     },
     "execution_count": 16,
     "metadata": {},
     "output_type": "execute_result"
    }
   ],
   "execution_count": 16
  },
  {
   "cell_type": "code",
   "source": "import pandas as pd\nfrom sklearn.feature_extraction.text import TfidfVectorizer\nfrom sklearn.metrics.pairwise import cosine_similarity\nfrom collections import Counter\nfrom sklearn.metrics import precision_score, recall_score, f1_score\n\n\n\n# Function to get recommendations\ndef get_content_based_recommendations(input_genre, top_n=5):\n    \"\"\"\n    Get top N book recommendations based on genre similarity using TF-IDF\n\n    Args:\n        input_genre (str): Genre to base recommendations on\n        top_n (int): Number of recommendations to return\n\n    Returns:\n        pd.DataFrame: DataFrame with recommended books and their similarity scores\n    \"\"\"\n    # Create TF-IDF matrix\n    tfidf = TfidfVectorizer()\n    # Apply the vectorizer to the genre column\n    genres_cleaned = genres['genre'].str.replace(\",\", \" \")\n    genres_transformed = tfidf.fit_transform(genres_cleaned)\n\n    # Transform input genre.  Handles multiple input genres\n    input_genre_cleaned = input_genre.replace(\",\", \" \")\n    input_vector = tfidf.transform([input_genre_cleaned])   # Calculate similarities\n    \n    similarities = cosine_similarity(input_vector, genres_transformed).flatten()\n\n    # Get top similar books\n    similar_books = pd.DataFrame({\n        'title': genres['title'],\n        'similarity': similarities\n    }).sort_values(by='similarity', ascending=False)\n\n    return similar_books\n\n\ndef evaluate_recommendations(input_genre, test_books, top_n=5):\n    \"\"\"\n    Evaluate the recommendation system using precision, recall, and F1-score\n\n    Args:\n        input_genre (str): Genre to test\n        test_books (list): List of books known to belong to this genre\n        top_n (int): Number of recommendations to consider\n\n    Returns:\n        dict: Evaluation metrics (precision, recall, f1)\n    \"\"\"\n    # Get recommendations\n    recommendations = get_content_based_recommendations(input_genre)\n    recommended_books = recommendations['title'].tolist()\n\n    # Calculate true positives (books that were recommended AND are in test_books)\n    tp = len(set(recommended_books) & set(test_books))\n\n    # Calculate false positives (books that were recommended but NOT in test_books)\n    fp = len(set(recommended_books) - set(test_books))\n\n    # Calculate false negatives (books in test_books that weren't recommended)\n    fn = len(set(test_books) - set(recommended_books))\n\n    # Calculate metrics\n    precision = tp / (tp + fp) if (tp + fp) > 0 else 0\n    recall = tp / (tp + fn) if (tp + fn) > 0 else 0\n    f1 = 2 * (precision * recall) / (precision + recall) if (precision + recall) > 0 else 0\n\n    return {\n        'precision': precision,\n        'recall': recall,\n        'f1_score': f1,\n        'true_positives': tp,\n        'false_positives': fp,\n        'false_negatives': fn\n    }\n\n\n# Example usage:\nif __name__ == \"__main__\":\n    total_precision = 0\n    total_recall    = 0\n    total_f1_score  = 0\n    # Example 1: Get recommendations\n    input_genre = [] # User input genre\n    for i in range (10):\n        input_genre.append(top_10_genres[i][0])\n    for i in input_genre:\n        recommendations = get_content_based_recommendations(i)\n        print(f\"Top 5 recommended books for genre '{i}':\")\n        print(recommendations.head(5))\n\n        # Example 2: Evaluate the system\n        # For evaluation, we need some test books known to belong to the genre\n        # In a real scenario, this would come from user data or test sets\n        test_books = genres[genres['genre'].str.contains(i, case=False)]['title'].tolist()\n        metrics = evaluate_recommendations(i, test_books)\n        total_precision += metrics['precision']\n        total_recall    += metrics['recall']\n        total_f1_score  += metrics['f1_score']\n",
   "metadata": {
    "trusted": true,
    "execution": {
     "iopub.status.busy": "2025-05-12T14:38:17.062796Z",
     "iopub.execute_input": "2025-05-12T14:38:17.063070Z",
     "iopub.status.idle": "2025-05-12T14:38:33.970189Z",
     "shell.execute_reply.started": "2025-05-12T14:38:17.063051Z",
     "shell.execute_reply": "2025-05-12T14:38:33.969380Z"
    },
    "collapsed": true,
    "jupyter": {
     "outputs_hidden": true
    },
    "ExecuteTime": {
     "end_time": "2025-05-12T15:09:06.199893Z",
     "start_time": "2025-05-12T15:08:26.151735Z"
    }
   },
   "outputs": [
    {
     "name": "stdout",
     "output_type": "stream",
     "text": [
      "Top 5 recommended books for genre 'Romance':\n",
      "                                    title  similarity\n",
      "70239               In Bed with the Enemy         1.0\n",
      "70760                     His Best Friend         1.0\n",
      "70791                        Madam's Room         1.0\n",
      "41676  Campus Girl: Pearl, The Sweetheart         1.0\n",
      "30389                    Lone Star Marine         1.0\n",
      "Top 5 recommended books for genre 'Fantasy':\n",
      "                                                   title  similarity\n",
      "51291                                           Wayfarer         1.0\n",
      "38754  Articles on the Southern Vampire Mysteries, In...         1.0\n",
      "30799                                       Fate's Trick         1.0\n",
      "55421                                  PÃ©talos de papel         1.0\n",
      "55730                                The Poisoner's Game         1.0\n",
      "Top 5 recommended books for genre 'Fiction':\n",
      "                                                   title  similarity\n",
      "63275                                          Ancestors         1.0\n",
      "34422                                        Battle Road         1.0\n",
      "38377  Dream with No Name: Contemporary Fiction from ...         1.0\n",
      "84262                       Ð•ÑÐºÐ¾Ñ€Ñ‚ Ñƒ ÑÐ¼ÐµÑ€Ñ‚ÑŒ         1.0\n",
      "80606                                    Daleko je sunce         1.0\n",
      "Top 5 recommended books for genre 'Nonfiction':\n",
      "                                                   title  similarity\n",
      "28729                       The Medical Malpractice Myth         1.0\n",
      "47634  Community Organizing and Community Building fo...         1.0\n",
      "20794  Flipping Burgers to Flipping Millions: A Guide...         1.0\n",
      "46819  What's Black and White and Reid All Over? Some...         1.0\n",
      "46874                              The Island Martinique         1.0\n",
      "Top 5 recommended books for genre 'Historical':\n",
      "                                     title  similarity\n",
      "74420  Promises (Harlequin Historical #16)         1.0\n",
      "71928           El otro Ã¡rbol de Guernica         1.0\n",
      "77106                       Courting Celia         1.0\n",
      "4665                         Seducing Eden         1.0\n",
      "53351                   L'alliance brisÃ©e         1.0\n",
      "Top 5 recommended books for genre 'Childrens':\n",
      "                title  similarity\n",
      "4664   Aesop's Fables         1.0\n",
      "64336      Noisy Farm         1.0\n",
      "27727       Dinosaurs         1.0\n",
      "68100  Get up and go!         1.0\n",
      "31661   Mammoth Magic         1.0\n",
      "Top 5 recommended books for genre 'History':\n",
      "                                                   title  similarity\n",
      "47         Urban Images Of The Hispanic World, 1493 1793         1.0\n",
      "28362  The People Of Cascadia   Pacific Northwest Nat...         1.0\n",
      "1930       Juan Soldado: Rapist, Murderer, Martyr, Saint         1.0\n",
      "12456                         The Past in French History         1.0\n",
      "29018  Tracing Your Huguenot Ancestors: A Guide for F...         1.0\n",
      "Top 5 recommended books for genre 'Cultural':\n",
      "                                                   title  similarity\n",
      "85162                        Bicycles (Around the World)    1.000000\n",
      "68664              Like Me and You (Raffi Songs to Read)    1.000000\n",
      "42112                             Daughters of the Earth    1.000000\n",
      "58378  Ù…Ø¹Ø¬Ù… Ø§Ù„Ø­Ø¶Ø§Ø±Ø© Ø§Ù„Ù…ØµØ±ÙŠØ© Ø§Ù„Ù‚Ø...    0.721867\n",
      "17441  The Crossing Place: A Journey Among the Armenians    0.675512\n",
      "Top 5 recommended books for genre 'Sequential Art':\n",
      "                                        title  similarity\n",
      "35131           The Resident Tourist (Part 5)    0.881217\n",
      "40276           The Resident Tourist (Part 4)    0.881217\n",
      "84470           Those Who Hunt Elves Volume 1    0.869268\n",
      "96658  Walrus: Brandon Graham's All Bum Album    0.863812\n",
      "30425    Castle in the Sky Film Comic, Vol. 2    0.863765\n",
      "Top 5 recommended books for genre 'Mystery':\n",
      "                                     title  similarity\n",
      "85168                        Octagon House         1.0\n",
      "62293                    Top Storey Murder         1.0\n",
      "55211               Death in Harley Street         1.0\n",
      "60447  Cold Blood: A Sergeant Beef Mystery         1.0\n",
      "69468                  The Sound of Murder         1.0\n"
     ]
    }
   ],
   "execution_count": 17
  },
  {
   "cell_type": "code",
   "source": "print(f\"Average precision of Top10 Genres : {total_precision/10}\")\nprint(f\"Average Recall of Top10 Genres : {total_recall/10}\")\nprint(f\"Average F1 score of Top10 Genres : {total_f1_score/10}\")",
   "metadata": {
    "trusted": true,
    "execution": {
     "iopub.status.busy": "2025-05-12T14:39:38.596447Z",
     "iopub.execute_input": "2025-05-12T14:39:38.596944Z",
     "iopub.status.idle": "2025-05-12T14:39:38.601110Z",
     "shell.execute_reply.started": "2025-05-12T14:39:38.596923Z",
     "shell.execute_reply": "2025-05-12T14:39:38.600544Z"
    },
    "ExecuteTime": {
     "end_time": "2025-05-12T15:09:06.325517Z",
     "start_time": "2025-05-12T15:09:06.315707Z"
    }
   },
   "outputs": [
    {
     "name": "stdout",
     "output_type": "stream",
     "text": [
      "Average precision of Top10 Genres : 0.2117721852483992\n",
      "Average Recall of Top10 Genres : 1.0\n",
      "Average F1 score of Top10 Genres : 0.31884197693883143\n"
     ]
    }
   ],
   "execution_count": 18
  },
  {
   "cell_type": "markdown",
   "source": "**Insights**\n\n- **From the Recall**  \n  The system is good at suggesting movies the user is likely to enjoy.\n\n- **From the Precision**  \n  The system is bad at finding most of the movies a user would like.\n",
   "metadata": {}
  },
  {
   "cell_type": "code",
   "source": "",
   "metadata": {
    "ExecuteTime": {
     "end_time": "2025-05-12T07:53:11.916960Z",
     "start_time": "2025-05-12T07:53:11.907127Z"
    },
    "trusted": true
   },
   "outputs": [],
   "execution_count": null
  },
  {
   "cell_type": "code",
   "source": "",
   "metadata": {},
   "outputs": [],
   "execution_count": null
  }
 ]
}
