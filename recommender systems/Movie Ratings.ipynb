{
 "cells": [
  {
   "metadata": {
    "ExecuteTime": {
     "end_time": "2025-05-12T02:33:11.040934Z",
     "start_time": "2025-05-12T02:33:11.033820Z"
    }
   },
   "cell_type": "code",
   "source": [
    "import pandas as pd\n",
    "import numpy as np\n",
    "import matplotlib.pyplot as plt\n",
    "import seaborn as sns\n",
    "from sklearn.metrics.pairwise import cosine_similarity\n",
    "from sklearn.model_selection import train_test_split\n",
    "from collections import defaultdict\n",
    "from sklearn.metrics import r2_score, mean_squared_error,mean_absolute_error"
   ],
   "id": "ebcfbb17012bb71c",
   "outputs": [],
   "execution_count": 26
  },
  {
   "metadata": {
    "ExecuteTime": {
     "end_time": "2025-05-12T02:12:41.206016Z",
     "start_time": "2025-05-12T02:12:41.093Z"
    }
   },
   "cell_type": "code",
   "source": [
    "df_movies = pd.read_csv('datasets_\\ml-latest-small\\movies.csv')\n",
    "df_rating = pd.read_csv(r'datasets_\\ml-latest-small\\ratings.csv')\n",
    "df =  pd.merge(df_rating, df_movies, on='movieId')"
   ],
   "id": "fea0574548e1eab9",
   "outputs": [],
   "execution_count": 2
  },
  {
   "metadata": {
    "ExecuteTime": {
     "end_time": "2025-05-12T02:12:42.353217Z",
     "start_time": "2025-05-12T02:12:42.338459Z"
    }
   },
   "cell_type": "code",
   "source": "df.head()",
   "id": "c97510b2390d8dcc",
   "outputs": [
    {
     "data": {
      "text/plain": [
       "   userId  movieId  rating  timestamp                        title  \\\n",
       "0       1        1     4.0  964982703             Toy Story (1995)   \n",
       "1       1        3     4.0  964981247      Grumpier Old Men (1995)   \n",
       "2       1        6     4.0  964982224                  Heat (1995)   \n",
       "3       1       47     5.0  964983815  Seven (a.k.a. Se7en) (1995)   \n",
       "4       1       50     5.0  964982931   Usual Suspects, The (1995)   \n",
       "\n",
       "                                        genres  \n",
       "0  Adventure|Animation|Children|Comedy|Fantasy  \n",
       "1                               Comedy|Romance  \n",
       "2                        Action|Crime|Thriller  \n",
       "3                             Mystery|Thriller  \n",
       "4                       Crime|Mystery|Thriller  "
      ],
      "text/html": [
       "<div>\n",
       "<style scoped>\n",
       "    .dataframe tbody tr th:only-of-type {\n",
       "        vertical-align: middle;\n",
       "    }\n",
       "\n",
       "    .dataframe tbody tr th {\n",
       "        vertical-align: top;\n",
       "    }\n",
       "\n",
       "    .dataframe thead th {\n",
       "        text-align: right;\n",
       "    }\n",
       "</style>\n",
       "<table border=\"1\" class=\"dataframe\">\n",
       "  <thead>\n",
       "    <tr style=\"text-align: right;\">\n",
       "      <th></th>\n",
       "      <th>userId</th>\n",
       "      <th>movieId</th>\n",
       "      <th>rating</th>\n",
       "      <th>timestamp</th>\n",
       "      <th>title</th>\n",
       "      <th>genres</th>\n",
       "    </tr>\n",
       "  </thead>\n",
       "  <tbody>\n",
       "    <tr>\n",
       "      <th>0</th>\n",
       "      <td>1</td>\n",
       "      <td>1</td>\n",
       "      <td>4.0</td>\n",
       "      <td>964982703</td>\n",
       "      <td>Toy Story (1995)</td>\n",
       "      <td>Adventure|Animation|Children|Comedy|Fantasy</td>\n",
       "    </tr>\n",
       "    <tr>\n",
       "      <th>1</th>\n",
       "      <td>1</td>\n",
       "      <td>3</td>\n",
       "      <td>4.0</td>\n",
       "      <td>964981247</td>\n",
       "      <td>Grumpier Old Men (1995)</td>\n",
       "      <td>Comedy|Romance</td>\n",
       "    </tr>\n",
       "    <tr>\n",
       "      <th>2</th>\n",
       "      <td>1</td>\n",
       "      <td>6</td>\n",
       "      <td>4.0</td>\n",
       "      <td>964982224</td>\n",
       "      <td>Heat (1995)</td>\n",
       "      <td>Action|Crime|Thriller</td>\n",
       "    </tr>\n",
       "    <tr>\n",
       "      <th>3</th>\n",
       "      <td>1</td>\n",
       "      <td>47</td>\n",
       "      <td>5.0</td>\n",
       "      <td>964983815</td>\n",
       "      <td>Seven (a.k.a. Se7en) (1995)</td>\n",
       "      <td>Mystery|Thriller</td>\n",
       "    </tr>\n",
       "    <tr>\n",
       "      <th>4</th>\n",
       "      <td>1</td>\n",
       "      <td>50</td>\n",
       "      <td>5.0</td>\n",
       "      <td>964982931</td>\n",
       "      <td>Usual Suspects, The (1995)</td>\n",
       "      <td>Crime|Mystery|Thriller</td>\n",
       "    </tr>\n",
       "  </tbody>\n",
       "</table>\n",
       "</div>"
      ]
     },
     "execution_count": 3,
     "metadata": {},
     "output_type": "execute_result"
    }
   ],
   "execution_count": 3
  },
  {
   "metadata": {
    "ExecuteTime": {
     "end_time": "2025-05-12T02:12:42.522323Z",
     "start_time": "2025-05-12T02:12:42.386677Z"
    }
   },
   "cell_type": "code",
   "source": "user_item_matrix = df.pivot_table(index='userId', columns='movieId', values='rating', fill_value=0)",
   "id": "3f8a8445afdd2b18",
   "outputs": [],
   "execution_count": 4
  },
  {
   "metadata": {
    "ExecuteTime": {
     "end_time": "2025-05-12T02:12:42.833426Z",
     "start_time": "2025-05-12T02:12:42.621337Z"
    }
   },
   "cell_type": "code",
   "source": [
    "user_similarity = cosine_similarity(user_item_matrix)\n",
    "\n",
    "# Step 3: Convert to a DataFrame for better readability\n",
    "user_similarity_df = pd.DataFrame(user_similarity, index=user_item_matrix.index, columns=user_item_matrix.index)\n",
    "\n",
    "print(\"User-User Cosine Similarity Matrix:\")\n",
    "user_similarity_df"
   ],
   "id": "60a8d0b7e05d60b9",
   "outputs": [
    {
     "name": "stdout",
     "output_type": "stream",
     "text": [
      "User-User Cosine Similarity Matrix:\n"
     ]
    },
    {
     "data": {
      "text/plain": [
       "userId       1         2         3         4         5         6         7    \\\n",
       "userId                                                                         \n",
       "1       1.000000  0.027283  0.059720  0.194395  0.129080  0.128152  0.158744   \n",
       "2       0.027283  1.000000  0.000000  0.003726  0.016614  0.025333  0.027585   \n",
       "3       0.059720  0.000000  1.000000  0.002251  0.005020  0.003936  0.000000   \n",
       "4       0.194395  0.003726  0.002251  1.000000  0.128659  0.088491  0.115120   \n",
       "5       0.129080  0.016614  0.005020  0.128659  1.000000  0.300349  0.108342   \n",
       "...          ...       ...       ...       ...       ...       ...       ...   \n",
       "606     0.164191  0.028429  0.012993  0.200395  0.106435  0.102123  0.200035   \n",
       "607     0.269389  0.012948  0.019247  0.131746  0.152866  0.162182  0.186114   \n",
       "608     0.291097  0.046211  0.021128  0.149858  0.135535  0.178809  0.323541   \n",
       "609     0.093572  0.027565  0.000000  0.032198  0.261232  0.214234  0.090840   \n",
       "610     0.145321  0.102427  0.032119  0.107683  0.060792  0.052668  0.193219   \n",
       "\n",
       "userId       8         9         10   ...       601       602       603  \\\n",
       "userId                                ...                                 \n",
       "1       0.136968  0.064263  0.016875  ...  0.080554  0.164455  0.221486   \n",
       "2       0.027257  0.000000  0.067445  ...  0.202671  0.016866  0.011997   \n",
       "3       0.004941  0.000000  0.000000  ...  0.005048  0.004892  0.024992   \n",
       "4       0.062969  0.011361  0.031163  ...  0.085938  0.128273  0.307973   \n",
       "5       0.429075  0.000000  0.030611  ...  0.068048  0.418747  0.110148   \n",
       "...          ...       ...       ...  ...       ...       ...       ...   \n",
       "606     0.099388  0.075898  0.088963  ...  0.178084  0.116534  0.300669   \n",
       "607     0.185142  0.011844  0.010451  ...  0.092525  0.199910  0.203540   \n",
       "608     0.187233  0.100435  0.077424  ...  0.158355  0.197514  0.232771   \n",
       "609     0.423993  0.000000  0.021766  ...  0.035653  0.335231  0.061941   \n",
       "610     0.078153  0.074399  0.121072  ...  0.222491  0.087528  0.163094   \n",
       "\n",
       "userId       604       605       606       607       608       609       610  \n",
       "userId                                                                        \n",
       "1       0.070669  0.153625  0.164191  0.269389  0.291097  0.093572  0.145321  \n",
       "2       0.000000  0.000000  0.028429  0.012948  0.046211  0.027565  0.102427  \n",
       "3       0.000000  0.010694  0.012993  0.019247  0.021128  0.000000  0.032119  \n",
       "4       0.052985  0.084584  0.200395  0.131746  0.149858  0.032198  0.107683  \n",
       "5       0.258773  0.148758  0.106435  0.152866  0.135535  0.261232  0.060792  \n",
       "...          ...       ...       ...       ...       ...       ...       ...  \n",
       "606     0.066032  0.148141  1.000000  0.153063  0.262558  0.069622  0.201104  \n",
       "607     0.137834  0.118780  0.153063  1.000000  0.283081  0.149190  0.139114  \n",
       "608     0.155306  0.178142  0.262558  0.283081  1.000000  0.121993  0.322055  \n",
       "609     0.236601  0.097610  0.069622  0.149190  0.121993  1.000000  0.053225  \n",
       "610     0.052552  0.119295  0.201104  0.139114  0.322055  0.053225  1.000000  \n",
       "\n",
       "[610 rows x 610 columns]"
      ],
      "text/html": [
       "<div>\n",
       "<style scoped>\n",
       "    .dataframe tbody tr th:only-of-type {\n",
       "        vertical-align: middle;\n",
       "    }\n",
       "\n",
       "    .dataframe tbody tr th {\n",
       "        vertical-align: top;\n",
       "    }\n",
       "\n",
       "    .dataframe thead th {\n",
       "        text-align: right;\n",
       "    }\n",
       "</style>\n",
       "<table border=\"1\" class=\"dataframe\">\n",
       "  <thead>\n",
       "    <tr style=\"text-align: right;\">\n",
       "      <th>userId</th>\n",
       "      <th>1</th>\n",
       "      <th>2</th>\n",
       "      <th>3</th>\n",
       "      <th>4</th>\n",
       "      <th>5</th>\n",
       "      <th>6</th>\n",
       "      <th>7</th>\n",
       "      <th>8</th>\n",
       "      <th>9</th>\n",
       "      <th>10</th>\n",
       "      <th>...</th>\n",
       "      <th>601</th>\n",
       "      <th>602</th>\n",
       "      <th>603</th>\n",
       "      <th>604</th>\n",
       "      <th>605</th>\n",
       "      <th>606</th>\n",
       "      <th>607</th>\n",
       "      <th>608</th>\n",
       "      <th>609</th>\n",
       "      <th>610</th>\n",
       "    </tr>\n",
       "    <tr>\n",
       "      <th>userId</th>\n",
       "      <th></th>\n",
       "      <th></th>\n",
       "      <th></th>\n",
       "      <th></th>\n",
       "      <th></th>\n",
       "      <th></th>\n",
       "      <th></th>\n",
       "      <th></th>\n",
       "      <th></th>\n",
       "      <th></th>\n",
       "      <th></th>\n",
       "      <th></th>\n",
       "      <th></th>\n",
       "      <th></th>\n",
       "      <th></th>\n",
       "      <th></th>\n",
       "      <th></th>\n",
       "      <th></th>\n",
       "      <th></th>\n",
       "      <th></th>\n",
       "      <th></th>\n",
       "    </tr>\n",
       "  </thead>\n",
       "  <tbody>\n",
       "    <tr>\n",
       "      <th>1</th>\n",
       "      <td>1.000000</td>\n",
       "      <td>0.027283</td>\n",
       "      <td>0.059720</td>\n",
       "      <td>0.194395</td>\n",
       "      <td>0.129080</td>\n",
       "      <td>0.128152</td>\n",
       "      <td>0.158744</td>\n",
       "      <td>0.136968</td>\n",
       "      <td>0.064263</td>\n",
       "      <td>0.016875</td>\n",
       "      <td>...</td>\n",
       "      <td>0.080554</td>\n",
       "      <td>0.164455</td>\n",
       "      <td>0.221486</td>\n",
       "      <td>0.070669</td>\n",
       "      <td>0.153625</td>\n",
       "      <td>0.164191</td>\n",
       "      <td>0.269389</td>\n",
       "      <td>0.291097</td>\n",
       "      <td>0.093572</td>\n",
       "      <td>0.145321</td>\n",
       "    </tr>\n",
       "    <tr>\n",
       "      <th>2</th>\n",
       "      <td>0.027283</td>\n",
       "      <td>1.000000</td>\n",
       "      <td>0.000000</td>\n",
       "      <td>0.003726</td>\n",
       "      <td>0.016614</td>\n",
       "      <td>0.025333</td>\n",
       "      <td>0.027585</td>\n",
       "      <td>0.027257</td>\n",
       "      <td>0.000000</td>\n",
       "      <td>0.067445</td>\n",
       "      <td>...</td>\n",
       "      <td>0.202671</td>\n",
       "      <td>0.016866</td>\n",
       "      <td>0.011997</td>\n",
       "      <td>0.000000</td>\n",
       "      <td>0.000000</td>\n",
       "      <td>0.028429</td>\n",
       "      <td>0.012948</td>\n",
       "      <td>0.046211</td>\n",
       "      <td>0.027565</td>\n",
       "      <td>0.102427</td>\n",
       "    </tr>\n",
       "    <tr>\n",
       "      <th>3</th>\n",
       "      <td>0.059720</td>\n",
       "      <td>0.000000</td>\n",
       "      <td>1.000000</td>\n",
       "      <td>0.002251</td>\n",
       "      <td>0.005020</td>\n",
       "      <td>0.003936</td>\n",
       "      <td>0.000000</td>\n",
       "      <td>0.004941</td>\n",
       "      <td>0.000000</td>\n",
       "      <td>0.000000</td>\n",
       "      <td>...</td>\n",
       "      <td>0.005048</td>\n",
       "      <td>0.004892</td>\n",
       "      <td>0.024992</td>\n",
       "      <td>0.000000</td>\n",
       "      <td>0.010694</td>\n",
       "      <td>0.012993</td>\n",
       "      <td>0.019247</td>\n",
       "      <td>0.021128</td>\n",
       "      <td>0.000000</td>\n",
       "      <td>0.032119</td>\n",
       "    </tr>\n",
       "    <tr>\n",
       "      <th>4</th>\n",
       "      <td>0.194395</td>\n",
       "      <td>0.003726</td>\n",
       "      <td>0.002251</td>\n",
       "      <td>1.000000</td>\n",
       "      <td>0.128659</td>\n",
       "      <td>0.088491</td>\n",
       "      <td>0.115120</td>\n",
       "      <td>0.062969</td>\n",
       "      <td>0.011361</td>\n",
       "      <td>0.031163</td>\n",
       "      <td>...</td>\n",
       "      <td>0.085938</td>\n",
       "      <td>0.128273</td>\n",
       "      <td>0.307973</td>\n",
       "      <td>0.052985</td>\n",
       "      <td>0.084584</td>\n",
       "      <td>0.200395</td>\n",
       "      <td>0.131746</td>\n",
       "      <td>0.149858</td>\n",
       "      <td>0.032198</td>\n",
       "      <td>0.107683</td>\n",
       "    </tr>\n",
       "    <tr>\n",
       "      <th>5</th>\n",
       "      <td>0.129080</td>\n",
       "      <td>0.016614</td>\n",
       "      <td>0.005020</td>\n",
       "      <td>0.128659</td>\n",
       "      <td>1.000000</td>\n",
       "      <td>0.300349</td>\n",
       "      <td>0.108342</td>\n",
       "      <td>0.429075</td>\n",
       "      <td>0.000000</td>\n",
       "      <td>0.030611</td>\n",
       "      <td>...</td>\n",
       "      <td>0.068048</td>\n",
       "      <td>0.418747</td>\n",
       "      <td>0.110148</td>\n",
       "      <td>0.258773</td>\n",
       "      <td>0.148758</td>\n",
       "      <td>0.106435</td>\n",
       "      <td>0.152866</td>\n",
       "      <td>0.135535</td>\n",
       "      <td>0.261232</td>\n",
       "      <td>0.060792</td>\n",
       "    </tr>\n",
       "    <tr>\n",
       "      <th>...</th>\n",
       "      <td>...</td>\n",
       "      <td>...</td>\n",
       "      <td>...</td>\n",
       "      <td>...</td>\n",
       "      <td>...</td>\n",
       "      <td>...</td>\n",
       "      <td>...</td>\n",
       "      <td>...</td>\n",
       "      <td>...</td>\n",
       "      <td>...</td>\n",
       "      <td>...</td>\n",
       "      <td>...</td>\n",
       "      <td>...</td>\n",
       "      <td>...</td>\n",
       "      <td>...</td>\n",
       "      <td>...</td>\n",
       "      <td>...</td>\n",
       "      <td>...</td>\n",
       "      <td>...</td>\n",
       "      <td>...</td>\n",
       "      <td>...</td>\n",
       "    </tr>\n",
       "    <tr>\n",
       "      <th>606</th>\n",
       "      <td>0.164191</td>\n",
       "      <td>0.028429</td>\n",
       "      <td>0.012993</td>\n",
       "      <td>0.200395</td>\n",
       "      <td>0.106435</td>\n",
       "      <td>0.102123</td>\n",
       "      <td>0.200035</td>\n",
       "      <td>0.099388</td>\n",
       "      <td>0.075898</td>\n",
       "      <td>0.088963</td>\n",
       "      <td>...</td>\n",
       "      <td>0.178084</td>\n",
       "      <td>0.116534</td>\n",
       "      <td>0.300669</td>\n",
       "      <td>0.066032</td>\n",
       "      <td>0.148141</td>\n",
       "      <td>1.000000</td>\n",
       "      <td>0.153063</td>\n",
       "      <td>0.262558</td>\n",
       "      <td>0.069622</td>\n",
       "      <td>0.201104</td>\n",
       "    </tr>\n",
       "    <tr>\n",
       "      <th>607</th>\n",
       "      <td>0.269389</td>\n",
       "      <td>0.012948</td>\n",
       "      <td>0.019247</td>\n",
       "      <td>0.131746</td>\n",
       "      <td>0.152866</td>\n",
       "      <td>0.162182</td>\n",
       "      <td>0.186114</td>\n",
       "      <td>0.185142</td>\n",
       "      <td>0.011844</td>\n",
       "      <td>0.010451</td>\n",
       "      <td>...</td>\n",
       "      <td>0.092525</td>\n",
       "      <td>0.199910</td>\n",
       "      <td>0.203540</td>\n",
       "      <td>0.137834</td>\n",
       "      <td>0.118780</td>\n",
       "      <td>0.153063</td>\n",
       "      <td>1.000000</td>\n",
       "      <td>0.283081</td>\n",
       "      <td>0.149190</td>\n",
       "      <td>0.139114</td>\n",
       "    </tr>\n",
       "    <tr>\n",
       "      <th>608</th>\n",
       "      <td>0.291097</td>\n",
       "      <td>0.046211</td>\n",
       "      <td>0.021128</td>\n",
       "      <td>0.149858</td>\n",
       "      <td>0.135535</td>\n",
       "      <td>0.178809</td>\n",
       "      <td>0.323541</td>\n",
       "      <td>0.187233</td>\n",
       "      <td>0.100435</td>\n",
       "      <td>0.077424</td>\n",
       "      <td>...</td>\n",
       "      <td>0.158355</td>\n",
       "      <td>0.197514</td>\n",
       "      <td>0.232771</td>\n",
       "      <td>0.155306</td>\n",
       "      <td>0.178142</td>\n",
       "      <td>0.262558</td>\n",
       "      <td>0.283081</td>\n",
       "      <td>1.000000</td>\n",
       "      <td>0.121993</td>\n",
       "      <td>0.322055</td>\n",
       "    </tr>\n",
       "    <tr>\n",
       "      <th>609</th>\n",
       "      <td>0.093572</td>\n",
       "      <td>0.027565</td>\n",
       "      <td>0.000000</td>\n",
       "      <td>0.032198</td>\n",
       "      <td>0.261232</td>\n",
       "      <td>0.214234</td>\n",
       "      <td>0.090840</td>\n",
       "      <td>0.423993</td>\n",
       "      <td>0.000000</td>\n",
       "      <td>0.021766</td>\n",
       "      <td>...</td>\n",
       "      <td>0.035653</td>\n",
       "      <td>0.335231</td>\n",
       "      <td>0.061941</td>\n",
       "      <td>0.236601</td>\n",
       "      <td>0.097610</td>\n",
       "      <td>0.069622</td>\n",
       "      <td>0.149190</td>\n",
       "      <td>0.121993</td>\n",
       "      <td>1.000000</td>\n",
       "      <td>0.053225</td>\n",
       "    </tr>\n",
       "    <tr>\n",
       "      <th>610</th>\n",
       "      <td>0.145321</td>\n",
       "      <td>0.102427</td>\n",
       "      <td>0.032119</td>\n",
       "      <td>0.107683</td>\n",
       "      <td>0.060792</td>\n",
       "      <td>0.052668</td>\n",
       "      <td>0.193219</td>\n",
       "      <td>0.078153</td>\n",
       "      <td>0.074399</td>\n",
       "      <td>0.121072</td>\n",
       "      <td>...</td>\n",
       "      <td>0.222491</td>\n",
       "      <td>0.087528</td>\n",
       "      <td>0.163094</td>\n",
       "      <td>0.052552</td>\n",
       "      <td>0.119295</td>\n",
       "      <td>0.201104</td>\n",
       "      <td>0.139114</td>\n",
       "      <td>0.322055</td>\n",
       "      <td>0.053225</td>\n",
       "      <td>1.000000</td>\n",
       "    </tr>\n",
       "  </tbody>\n",
       "</table>\n",
       "<p>610 rows × 610 columns</p>\n",
       "</div>"
      ]
     },
     "execution_count": 5,
     "metadata": {},
     "output_type": "execute_result"
    }
   ],
   "execution_count": 5
  },
  {
   "metadata": {
    "ExecuteTime": {
     "end_time": "2025-05-12T02:12:43.516558Z",
     "start_time": "2025-05-12T02:12:43.505791Z"
    }
   },
   "cell_type": "code",
   "source": [
    "target_user = 1\n",
    "x = df[df['userId'] == target_user]"
   ],
   "id": "874a962613dcd7a5",
   "outputs": [],
   "execution_count": 6
  },
  {
   "metadata": {
    "ExecuteTime": {
     "end_time": "2025-05-12T02:59:36.983361Z",
     "start_time": "2025-05-12T02:59:36.966292Z"
    }
   },
   "cell_type": "code",
   "source": [
    "def get_weighted_average_predictions(target_user, df, user_similarity_df, top_n_similar=5):\n",
    "    \"\"\"Calculates weighted average predicted ratings for all movies based on top N similar users.\"\"\"\n",
    "    if target_user not in user_similarity_df.index:\n",
    "        return pd.Series()\n",
    "    #Top user similar to target\n",
    "    similar_users = user_similarity_df.loc[target_user].drop(target_user).sort_values(ascending=False).head(top_n_similar).index\n",
    "    #Their Values\n",
    "    similar_scores = user_similarity_df.loc[target_user].drop(target_user).sort_values(ascending=False).head(top_n_similar).values\n",
    "\n",
    "    weighted_ratings_list = []  # Use a list to collect DataFrames\n",
    "    #summation of similar scres\n",
    "    sum_scores = sum(similar_scores) if similar_scores.any() else 1e-6 # Avoid division by zero\n",
    "    #calculating weighted avera9ge x1*weight1 + x2*weight2)/(sum_scores)\n",
    "    for user, score in zip(similar_users, similar_scores):\n",
    "        user_ratings = df[df['userId'] == user][['movieId', 'rating']].copy()\n",
    "        if not user_ratings.empty:  # Check if the user has any ratings\n",
    "            user_ratings['weighted_rating'] = user_ratings['rating'] * score\n",
    "            weighted_ratings_list.append(user_ratings)\n",
    "    #if empty\n",
    "    if not weighted_ratings_list:\n",
    "        return pd.Series()\n",
    "\n",
    "    weighted_ratings = pd.concat(weighted_ratings_list, ignore_index=True)\n",
    "\n",
    "    predicted_avg = weighted_ratings.groupby(['movieId'])['weighted_rating'].sum() / sum_scores\n",
    "    return predicted_avg\n",
    "\n",
    "predicted_avg = get_weighted_average_predictions(target_user, df, user_similarity_df)\n"
   ],
   "id": "af01509e0f113b24",
   "outputs": [],
   "execution_count": 43
  },
  {
   "metadata": {
    "ExecuteTime": {
     "end_time": "2025-05-12T02:59:39.102719Z",
     "start_time": "2025-05-12T02:59:39.096302Z"
    }
   },
   "cell_type": "code",
   "source": "predicted_avg.head()",
   "id": "158b031ce366f232",
   "outputs": [
    {
     "data": {
      "text/plain": [
       "movieId\n",
       "1     2.179472\n",
       "2     0.579160\n",
       "3     1.176315\n",
       "6     3.791293\n",
       "10    2.680886\n",
       "Name: weighted_rating, dtype: float64"
      ]
     },
     "execution_count": 44,
     "metadata": {},
     "output_type": "execute_result"
    }
   ],
   "execution_count": 44
  },
  {
   "metadata": {
    "ExecuteTime": {
     "end_time": "2025-05-12T02:59:41.110498Z",
     "start_time": "2025-05-12T02:59:41.096418Z"
    }
   },
   "cell_type": "code",
   "source": [
    "#listing top 10 movies\n",
    "predicted_movies = predicted_avg.sort_values().head(10)\n",
    "predicted_movies = predicted_movies.to_frame()\n",
    "predicted_movies.reset_index(inplace = True)\n",
    "predicted_movies.columns\n",
    "for i in predicted_movies['movieId']:\n",
    "    print( df[df['movieId'] == i]['title'].head(1).to_string() )"
   ],
   "id": "30f8245625132276",
   "outputs": [
    {
     "name": "stdout",
     "output_type": "stream",
     "text": [
      "14369    Spice World (1997)\n",
      "6107    Simon Birch (1998)\n",
      "7693    Animal, The (2001)\n",
      "6845    Ernest Scared Stupid (1991)\n",
      "738    Richie Rich (1994)\n",
      "3383    Charlie's Angels: Full Throttle (2003)\n",
      "752    City Slickers II: The Legend of Curly's Gold (...\n",
      "14447    Frankenstein Meets the Wolf Man (1943)\n",
      "14587    Big Trouble (2002)\n",
      "14577    Earth Girls Are Easy (1988)\n"
     ]
    }
   ],
   "execution_count": 45
  },
  {
   "metadata": {
    "ExecuteTime": {
     "end_time": "2025-05-12T03:00:15.527358Z",
     "start_time": "2025-05-12T03:00:15.519354Z"
    }
   },
   "cell_type": "code",
   "source": [
    "y = predicted_avg.to_frame()\n",
    "df_target = pd.merge(x,y, on='movieId')\n",
    "print('The mse Score = ',mean_squared_error(df_target['rating'], df_target['weighted_rating']))\n",
    "print('The r2 Score = ',r2_score(df_target['rating'], df_target['weighted_rating']))"
   ],
   "id": "a5c51b9b53aab174",
   "outputs": [
    {
     "name": "stdout",
     "output_type": "stream",
     "text": [
      "The mse Score =  7.397367481740456\n",
      "The r2 Score =  -10.751777522514747\n"
     ]
    }
   ],
   "execution_count": 46
  },
  {
   "metadata": {
    "ExecuteTime": {
     "end_time": "2025-05-12T03:00:16.002710Z",
     "start_time": "2025-05-12T03:00:15.996385Z"
    }
   },
   "cell_type": "code",
   "source": [
    "# Get movies already rated by the target user\n",
    "rated_by_target = set(df[df['userId'] == target_user]['movieId'])\n",
    "\n",
    "# Filter predicted ratings for movies not yet rated by the target user\n",
    "unrated_predictions = predicted_avg[~predicted_avg.index.isin(rated_by_target)]\n",
    "\n",
    "# Sort predictions in descending order\n",
    "top_recommendations = unrated_predictions.sort_values(ascending=False).head(10) # Get top 10 recommendations\n",
    "\n",
    "print(f\"Top recommendations for user {target_user}: {top_recommendations.index.tolist()}\")"
   ],
   "id": "c257706b61431579",
   "outputs": [
    {
     "name": "stdout",
     "output_type": "stream",
     "text": [
      "Top recommendations for user 1: [1200, 1610, 541, 589, 1036, 858, 924, 1374, 2791, 1221]\n"
     ]
    }
   ],
   "execution_count": 47
  },
  {
   "metadata": {
    "ExecuteTime": {
     "end_time": "2025-05-12T02:15:44.909296Z",
     "start_time": "2025-05-12T02:15:38.717217Z"
    }
   },
   "cell_type": "code",
   "source": [
    "def evaluate_recommendations_weighted(df, user_similarity_df, top_n_recommendations=10, rating_threshold=4, test_size=0.2):\n",
    "    \"\"\"Evaluates weighted average based recommendations using precision and recall.\"\"\"\n",
    "    train_df, test_df = train_test_split(df, test_size=test_size, random_state=42)\n",
    "    precision_sum = 0\n",
    "    recall_sum = 0\n",
    "    num_users = 0\n",
    "\n",
    "    for target_user in test_df['userId'].unique():\n",
    "        # Get predictions based on the training data\n",
    "        predictions = get_weighted_average_predictions(target_user, train_df, user_similarity_df, top_n_similar=5)\n",
    "\n",
    "        # Get movies the target user actually liked in the test set\n",
    "        relevant_items = set(test_df[(test_df['userId'] == target_user) & (test_df['rating'] >= rating_threshold)]['movieId'])\n",
    "\n",
    "        # Get top N recommendations based on predictions for unrated items in training\n",
    "        train_rated_items = set(train_df[train_df['userId'] == target_user]['movieId'])\n",
    "        recommendations = predictions[~predictions.index.isin(train_rated_items)].nlargest(top_n_recommendations).index.tolist()\n",
    "\n",
    "        if not recommendations:\n",
    "            precision = 0\n",
    "            recall = 0\n",
    "        else:\n",
    "            recommended_relevant = len(set(recommendations) & relevant_items)\n",
    "            precision = recommended_relevant / len(recommendations)\n",
    "            recall = recommended_relevant / len(relevant_items) if relevant_items else 0\n",
    "\n",
    "        precision_sum += precision\n",
    "        recall_sum += recall\n",
    "        num_users += 1\n",
    "\n",
    "    if num_users > 0:\n",
    "        mean_precision = precision_sum / num_users\n",
    "        mean_recall = recall_sum / num_users\n",
    "        return mean_precision, mean_recall\n",
    "    else:\n",
    "        return 0, 0\n",
    "\n",
    "# Assuming you have 'df' (your ratings DataFrame) and 'user_similarity_df' already computed\n",
    "\n",
    "mean_precision, mean_recall = evaluate_recommendations_weighted(df.copy(), user_similarity_df.copy(), top_n_recommendations=10, rating_threshold=4)\n",
    "print(f\"Mean Precision (Weighted Average): {mean_precision:.4f}\")\n",
    "print(f\"Mean Recall (Weighted Average): {mean_recall:.4f}\")\n",
    "\n",
    "# Example of getting recommendations for a specific user using the weighted average\n",
    "target_user_for_recommendation = 1\n",
    "recommendations_weighted = get_weighted_average_predictions(target_user_for_recommendation, df, user_similarity_df)\n",
    "rated_by_target = set(df[df['userId'] == target_user_for_recommendation]['movieId'])\n",
    "top_n_recommendations_weighted = recommendations_weighted[~recommendations_weighted.index.isin(rated_by_target)].nlargest(10).index.tolist()\n",
    "print(f\"\\nTop recommendations for user {target_user_for_recommendation} (Weighted Average): {top_n_recommendations_weighted}\")"
   ],
   "id": "96588895c1c7d3bc",
   "outputs": [
    {
     "name": "stdout",
     "output_type": "stream",
     "text": [
      "Mean Precision (Weighted Average): 0.2056\n",
      "Mean Recall (Weighted Average): 0.2284\n",
      "\n",
      "Top recommendations for user 1 (Weighted Average): [1200, 1610, 541, 589, 1036, 858, 924, 1374, 2791, 1221]\n"
     ]
    }
   ],
   "execution_count": 15
  },
  {
   "metadata": {
    "ExecuteTime": {
     "end_time": "2025-05-12T02:20:20.739953Z",
     "start_time": "2025-05-12T02:17:58.231699Z"
    }
   },
   "cell_type": "code",
   "source": [
    "#Req2\n",
    "user_movie_matrix = df.pivot_table(index='userId', columns='title', values='rating', fill_value=0)\n",
    "item_similarity = user_movie_matrix.corr(method='pearson', min_periods=10)\n"
   ],
   "id": "f073b0f074ef7027",
   "outputs": [],
   "execution_count": 17
  },
  {
   "metadata": {
    "ExecuteTime": {
     "end_time": "2025-05-12T02:20:20.828929Z",
     "start_time": "2025-05-12T02:20:20.813524Z"
    }
   },
   "cell_type": "code",
   "source": [
    "def get_top_similar_movies(movie_title, n=5):\n",
    "    if movie_title not in item_similarity:\n",
    "        return f\"'{movie_title}' not found in the dataset.\"\n",
    "\n",
    "    similar_scores = item_similarity[movie_title].dropna()\n",
    "    top_similar = similar_scores.sort_values(ascending=False).drop(labels=movie_title).head(n)\n",
    "    return top_similar\n",
    "\n",
    "# Example usage\n",
    "movie = \"Toy Story (1995)\"\n",
    "top_5 = get_top_similar_movies(movie)\n",
    "print(f\"Top 5 movies similar to '{movie}':\\n{top_5}\")\n"
   ],
   "id": "46c990d93ea4ec2d",
   "outputs": [
    {
     "name": "stdout",
     "output_type": "stream",
     "text": [
      "Top 5 movies similar to 'Toy Story (1995)':\n",
      "title\n",
      "Toy Story 2 (1999)                            0.461761\n",
      "Groundhog Day (1993)                          0.361540\n",
      "Independence Day (a.k.a. ID4) (1996)          0.358473\n",
      "Willy Wonka & the Chocolate Factory (1971)    0.357314\n",
      "Mission: Impossible (1996)                    0.352847\n",
      "Name: Toy Story (1995), dtype: float64\n"
     ]
    }
   ],
   "execution_count": 18
  },
  {
   "metadata": {
    "ExecuteTime": {
     "end_time": "2025-05-12T02:34:11.378163Z",
     "start_time": "2025-05-12T02:34:10.979559Z"
    }
   },
   "cell_type": "code",
   "source": [
    "# Select a subset of popular movies for clearer visualization\n",
    "popular_movies = df['title'].value_counts().head(10).index.tolist()\n",
    "similar_subset = item_similarity.loc[popular_movies, popular_movies]\n",
    "\n",
    "plt.figure(figsize=(10, 8))\n",
    "sns.heatmap(similar_subset, annot=True, fmt=\".2f\", cmap=\"coolwarm\", cbar=True)\n",
    "plt.title(\"Item-Item Pearson Correlation (Top Movies)\")\n",
    "plt.xticks(rotation=45)\n",
    "plt.yticks(rotation=0)\n",
    "plt.tight_layout()\n",
    "plt.show()\n"
   ],
   "id": "a5e592d9c9b39822",
   "outputs": [
    {
     "data": {
      "text/plain": [
       "<Figure size 1000x800 with 2 Axes>"
      ],
      "image/png": "[encoded data removed]"
     },
     "metadata": {},
     "output_type": "display_data"
    }
   ],
   "execution_count": 28
  },
  {
   "metadata": {
    "ExecuteTime": {
     "end_time": "2025-05-12T02:37:16.851452Z",
     "start_time": "2025-05-12T02:37:16.840137Z"
    }
   },
   "cell_type": "code",
   "source": "train_data, test_data = train_test_split(df_rating.drop('timestamp',axis = 1), test_size=0.2, random_state=42)\n",
   "id": "2da9fb2ca058843a",
   "outputs": [],
   "execution_count": 30
  },
  {
   "metadata": {
    "ExecuteTime": {
     "end_time": "2025-05-12T02:37:28.175594Z",
     "start_time": "2025-05-12T02:37:28.112955Z"
    }
   },
   "cell_type": "code",
   "source": [
    "train_matrix = train_data.pivot(index='userId', columns='movieId', values='rating')\n",
    "test_matrix = test_data.pivot(index='userId', columns='movieId', values='rating')"
   ],
   "id": "31e1171f5d5d0cb5",
   "outputs": [],
   "execution_count": 31
  },
  {
   "metadata": {},
   "cell_type": "code",
   "outputs": [],
   "execution_count": null,
   "source": "df[df['userId'] == target_user]",
   "id": "6632f7a65503dec2"
  },
  {
   "metadata": {
    "ExecuteTime": {
     "end_time": "2025-05-12T02:37:56.507144Z",
     "start_time": "2025-05-12T02:37:37.106085Z"
    }
   },
   "cell_type": "code",
   "source": [
    "# User-User Similarity\n",
    "user_similarity = train_matrix.T.corr(method='pearson', min_periods=5)\n",
    "\n",
    "# Item-Item Similarity\n",
    "item_similarity = train_matrix.corr(method='pearson', min_periods=5)\n"
   ],
   "id": "9ccdc5af6d56bca2",
   "outputs": [],
   "execution_count": 32
  },
  {
   "metadata": {
    "ExecuteTime": {
     "end_time": "2025-05-12T02:37:56.590306Z",
     "start_time": "2025-05-12T02:37:56.584039Z"
    }
   },
   "cell_type": "code",
   "source": [
    "def predict_user_based(user_id, item_id):\n",
    "    if user_id not in user_similarity or item_id not in train_matrix:\n",
    "        return np.nan\n",
    "\n",
    "    user_ratings = train_matrix.loc[:, item_id]\n",
    "    sim_users = user_similarity[user_id].dropna()\n",
    "\n",
    "    relevant_users = user_ratings[sim_users.index].dropna()\n",
    "    if relevant_users.empty:\n",
    "        return np.nan\n",
    "\n",
    "    sim_scores = sim_users[relevant_users.index]\n",
    "    weighted_sum = (relevant_users * sim_scores).sum()\n",
    "    sim_total = sim_scores.abs().sum()\n",
    "\n",
    "    return weighted_sum / sim_total if sim_total != 0 else np.nan\n",
    "\n",
    "def predict_item_based(user_id, item_id):\n",
    "    if user_id not in train_matrix.index or item_id not in item_similarity:\n",
    "        return np.nan\n",
    "\n",
    "    user_ratings = train_matrix.loc[user_id].dropna()\n",
    "    sim_items = item_similarity[item_id].dropna()\n",
    "\n",
    "    relevant_items = user_ratings[sim_items.index].dropna()\n",
    "    if relevant_items.empty:\n",
    "        return np.nan\n",
    "\n",
    "    sim_scores = sim_items[relevant_items.index]\n",
    "    weighted_sum = (relevant_items * sim_scores).sum()\n",
    "    sim_total = sim_scores.abs().sum()\n",
    "\n",
    "    return weighted_sum / sim_total if sim_total != 0 else np.nan\n"
   ],
   "id": "8691a8375202d32d",
   "outputs": [],
   "execution_count": 33
  },
  {
   "metadata": {
    "ExecuteTime": {
     "end_time": "2025-05-12T02:41:54.565597Z",
     "start_time": "2025-05-12T02:41:54.558216Z"
    }
   },
   "cell_type": "code",
   "source": [
    "def predict_user_based(user_id, item_id):\n",
    "    if user_id not in user_similarity.index:\n",
    "        return np.nan\n",
    "    if item_id not in train_matrix.columns:\n",
    "        return np.nan\n",
    "\n",
    "    user_ratings = train_matrix[item_id]\n",
    "    sim_users = user_similarity.loc[user_id].dropna()\n",
    "    relevant_users = user_ratings[sim_users.index].dropna()\n",
    "\n",
    "    if relevant_users.empty:\n",
    "        return np.nan\n",
    "\n",
    "    sim_scores = sim_users[relevant_users.index]\n",
    "    weighted_sum = (relevant_users * sim_scores).sum()\n",
    "    sim_total = sim_scores.abs().sum()\n",
    "\n",
    "    return weighted_sum / sim_total if sim_total != 0 else np.nan\n",
    "\n",
    "def predict_item_based(user_id, item_id):\n",
    "    if user_id not in train_matrix.index:\n",
    "        return np.nan\n",
    "\n",
    "    user_ratings = train_matrix.loc[user_id].dropna()\n",
    "    if item_id not in item_similarity.index:\n",
    "        return np.nan\n",
    "\n",
    "    sim_items = item_similarity.loc[item_id].reindex(user_ratings.index).dropna()\n",
    "    relevant_ratings = user_ratings[sim_items.index]\n",
    "\n",
    "    if relevant_ratings.empty:\n",
    "        return np.nan\n",
    "\n",
    "    weighted_sum = (relevant_ratings * sim_items).sum()\n",
    "    sim_total = sim_items.abs().sum()\n",
    "\n",
    "    return weighted_sum / sim_total if sim_total != 0 else np.nan\n"
   ],
   "id": "b8f77dc09a4c3c50",
   "outputs": [],
   "execution_count": 40
  },
  {
   "metadata": {
    "ExecuteTime": {
     "end_time": "2025-05-12T02:46:49.323480Z",
     "start_time": "2025-05-12T02:41:56.177118Z"
    }
   },
   "cell_type": "code",
   "source": [
    "user_preds = []\n",
    "item_preds = []\n",
    "actuals = []\n",
    "\n",
    "for _, row in test_data.iterrows():\n",
    "    uid, iid, true_rating = row['userId'], row['movieId'], row['rating']\n",
    "    ub_pred = predict_user_based(uid, iid)\n",
    "    ib_pred = predict_item_based(uid, iid)\n",
    "\n",
    "    if not np.isnan(ub_pred):\n",
    "        user_preds.append(ub_pred)\n",
    "    else:\n",
    "        user_preds.append(train_matrix.mean().mean())  # fallback\n",
    "\n",
    "    if not np.isnan(ib_pred):\n",
    "        item_preds.append(ib_pred)\n",
    "    else:\n",
    "        item_preds.append(train_matrix.mean().mean())  # fallback\n",
    "\n",
    "    actuals.append(true_rating)\n",
    "\n",
    "# Calculate MAE\n",
    "mae_user = mean_absolute_error(actuals, user_preds)\n",
    "mae_item = mean_absolute_error(actuals, item_preds)\n"
   ],
   "id": "f65d941fcc9f80c2",
   "outputs": [],
   "execution_count": 41
  },
  {
   "metadata": {
    "ExecuteTime": {
     "end_time": "2025-05-12T02:46:49.427474Z",
     "start_time": "2025-05-12T02:46:49.418421Z"
    }
   },
   "cell_type": "code",
   "source": [
    "results = pd.DataFrame({\n",
    "    \"Model\": [\"User-Based CF\", \"Item-Based CF\"],\n",
    "    \"MAE\": [mae_user, mae_item]\n",
    "})\n",
    "\n",
    "print(results)\n"
   ],
   "id": "8916869a36feddd7",
   "outputs": [
    {
     "name": "stdout",
     "output_type": "stream",
     "text": [
      "           Model       MAE\n",
      "0  User-Based CF  1.402654\n",
      "1  Item-Based CF  1.679208\n"
     ]
    }
   ],
   "execution_count": 42
  },
  {
   "metadata": {},
   "cell_type": "code",
   "outputs": [],
   "execution_count": null,
   "source": "",
   "id": "74c7d1026e286678"
  }
 ],
 "metadata": {
  "kernelspec": {
   "display_name": "Python 3",
   "language": "python",
   "name": "python3"
  },
  "language_info": {
   "codemirror_mode": {
    "name": "ipython",
    "version": 2
   },
   "file_extension": ".py",
   "mimetype": "text/x-python",
   "name": "python",
   "nbconvert_exporter": "python",
   "pygments_lexer": "ipython2",
   "version": "2.7.6"
  }
 },
 "nbformat": 4,
 "nbformat_minor": 5
}
